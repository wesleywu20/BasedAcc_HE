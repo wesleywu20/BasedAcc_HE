{
 "cells": [
  {
   "cell_type": "code",
   "execution_count": 55,
   "id": "69af1552",
   "metadata": {},
   "outputs": [],
   "source": [
    "DEGREE_N = 16\n",
    "BIT_WIDTH = 64\n",
    "Q = 1048193\n",
    "t = 16\n",
    "T = 256\n",
    "L = 7"
   ]
  },
  {
   "cell_type": "code",
   "execution_count": 38,
   "id": "0fabaf85",
   "metadata": {},
   "outputs": [],
   "source": [
    "DEGREE_N = 64\n",
    "BIT_WIDTH = 64\n",
    "Q = 4294966657\n",
    "t = 64\n",
    "T = 16\n",
    "L = 7\n",
    "PATH = \"HE_Verilog/tests/bins_demo/\""
   ]
  },
  {
   "cell_type": "code",
   "execution_count": 39,
   "id": "16d2ebc6",
   "metadata": {},
   "outputs": [],
   "source": [
    "def poly_mod(A):\n",
    "    D = []\n",
    "    n = len(A) // 2\n",
    "    for i in range(n):\n",
    "        # print(\"{} - {} = {} -> \".format(hex(A[i]), hex(A[i+n]), hex(A[i] - A[i+n])), end='')\n",
    "        D.append((A[i] - A[i + n]) % Q)\n",
    "        # print(hex(D[i]))\n",
    "        \n",
    "    return [(d+Q) if d < 0 else d for d in D]"
   ]
  },
  {
   "cell_type": "code",
   "execution_count": 40,
   "id": "516415c7",
   "metadata": {},
   "outputs": [],
   "source": [
    "def load_inputs(filename):\n",
    "    c = []\n",
    "    with open(filename, \"rb\") as f:\n",
    "        for i in range(DEGREE_N):\n",
    "            c.append(int.from_bytes(f.read(BIT_WIDTH // 8), \"little\"))\n",
    "    return c"
   ]
  },
  {
   "cell_type": "code",
   "execution_count": 41,
   "id": "59cac4ee",
   "metadata": {},
   "outputs": [],
   "source": [
    "def load_relin_keys(filename):\n",
    "    with open(filename, \"rb\") as f:\n",
    "        C = []\n",
    "        for i in range(L+1):\n",
    "            C.append([])\n",
    "            for j in range(2):\n",
    "                C[i].append([])\n",
    "                for k in range(DEGREE_N):\n",
    "                    # C[i][j][k] = int.from_bytes(f.read(BIT_WIDTH // 8), \"little\")\n",
    "                    C[i][j].append(int.from_bytes(f.read(BIT_WIDTH // 8), \"little\"))\n",
    "        return C"
   ]
  },
  {
   "cell_type": "code",
   "execution_count": 42,
   "id": "d3b075aa",
   "metadata": {},
   "outputs": [],
   "source": [
    "def show(ctxt):\n",
    "    print([hex(x) for x in ctxt])"
   ]
  },
  {
   "cell_type": "code",
   "execution_count": 43,
   "id": "2d2c927f",
   "metadata": {},
   "outputs": [],
   "source": [
    "def poly_mul(A, B):\n",
    "    C = [0] * (2 * len(A))\n",
    "    for indexA, elemA in enumerate(A):\n",
    "        for indexB, elemB in enumerate(B):\n",
    "            C[indexA + indexB] = (C[indexA + indexB] + elemA * elemB) # % Q\n",
    "    return C"
   ]
  },
  {
   "cell_type": "code",
   "execution_count": 44,
   "id": "a7a4e847",
   "metadata": {},
   "outputs": [],
   "source": [
    "def recon(A):\n",
    "    A = [((a*t)//Q)%Q for a in A]\n",
    "    return [(a+Q) if a < 0 else a for a in A]"
   ]
  },
  {
   "cell_type": "code",
   "execution_count": 45,
   "id": "725b9e1e",
   "metadata": {},
   "outputs": [],
   "source": [
    "def verify(A, B):\n",
    "    for a, b in zip(A, B):\n",
    "        try:\n",
    "            assert (abs(a-b) < 5)\n",
    "        except AssertionError:\n",
    "            print(a, b)"
   ]
  },
  {
   "cell_type": "code",
   "execution_count": 46,
   "id": "34002a8c",
   "metadata": {},
   "outputs": [],
   "source": [
    "def base_t(A):\n",
    "    C = [[0]*DEGREE_N]*(L+1)\n",
    "    for i in range(L+1):\n",
    "        for j in range(DEGREE_N):\n",
    "            C[i][j] = (A[j] // (T**i)) % T\n",
    "        C[i] = [(c+T) if c < 0 else c for c in C[i]]\n",
    "    return C"
   ]
  },
  {
   "cell_type": "code",
   "execution_count": 57,
   "id": "a03f8d1a",
   "metadata": {},
   "outputs": [],
   "source": [
    "c00 = load_inputs(PATH + \"ct10_fresh.bin\")\n",
    "c01 = load_inputs(PATH + \"ct11_fresh.bin\")\n",
    "c10 = load_inputs(PATH + \"ct20_fresh.bin\")\n",
    "c11 = load_inputs(PATH + \"ct21_fresh.bin\")\n",
    "rlks = load_relin_keys(PATH + \"relinKey.bin\")"
   ]
  },
  {
   "cell_type": "code",
   "execution_count": 58,
   "id": "58c96b89",
   "metadata": {},
   "outputs": [],
   "source": [
    "c0_expected = load_inputs(\"HE_Verilog/tests/bins_20_16/ct_afterMul_0.bin\")\n",
    "c1_expected = load_inputs(\"HE_Verilog/tests/bins_20_16/ct_afterMul_1.bin\")\n",
    "c2_expected = load_inputs(\"HE_Verilog/tests/bins_20_16/ct_afterMul_2.bin\")"
   ]
  },
  {
   "cell_type": "code",
   "execution_count": 59,
   "id": "13705128",
   "metadata": {},
   "outputs": [
    {
     "name": "stdout",
     "output_type": "stream",
     "text": [
      "['0x88383', '0x87056', '0x3e483', '0x74ed4', '0xa35db', '0x13e2a', '0x98b44', '0x4d0a8', '0x48a0f', '0x6a3df', '0x94d6b', '0x6eb57', '0x12bb8', '0x744c7', '0x59edb', '0xb0367']\n"
     ]
    }
   ],
   "source": [
    "c0 = poly_mod(recon(poly_mul(c00, c10)))\n",
    "c1 = poly_mod(recon(poly_mul(c00, c11) + poly_mul(c01, c10)))\n",
    "c2 = poly_mod(recon(poly_mul(c01, c11)))\n",
    "show(c2)"
   ]
  },
  {
   "cell_type": "code",
   "execution_count": 60,
   "id": "0dd4ec78",
   "metadata": {},
   "outputs": [
    {
     "name": "stdout",
     "output_type": "stream",
     "text": [
      "['0x29e6f', '0x76ebc', '0x1a902', '0x4e5b1', '0x70ef4', '0x18a25', '0x660ca', '0xfff54d96', '0x577db', '0x66b99', '0x14a0', '0x2aa2f', '0x11d05e', '0x347c5', '0xfe25d', '0x179711']\n",
      "['0x29e6f', '0x76ebc', '0x1a902', '0x4e5b2', '0x70ef4', '0x18a26', '0x660ca', '0x54c17', '0x577db', '0x66b9a', '0x149f', '0x2aa2e', '0x1d1dd', '0x347c4', '0xfe25d', '0x79891']\n"
     ]
    }
   ],
   "source": [
    "c0 = load_inputs(\"HE_Verilog/tests/bins_20_16/c0_wrapper.bin\")\n",
    "c1 = load_inputs(\"HE_Verilog/tests/bins_20_16/c1_wrapper.bin\")\n",
    "c2 = load_inputs(\"HE_Verilog/tests/bins_20_16/c2_wrapper.bin\")\n",
    "show(c1)\n",
    "show(c1_expected)"
   ]
  },
  {
   "cell_type": "code",
   "execution_count": 14,
   "id": "fe95e210",
   "metadata": {},
   "outputs": [
    {
     "name": "stdout",
     "output_type": "stream",
     "text": [
      "4294266262 347159\n",
      "1167454 119261\n",
      "1546001 497809\n"
     ]
    }
   ],
   "source": [
    "# verify(c0, c0_expected)\n",
    "verify(c1, c1_expected)\n",
    "# verify(c2, c2_expected)"
   ]
  },
  {
   "cell_type": "code",
   "execution_count": 61,
   "id": "f398ec47",
   "metadata": {},
   "outputs": [
    {
     "name": "stdout",
     "output_type": "stream",
     "text": [
      "['0x4b1aa', '0x7478c', '0xb9cb5', '0x43de5', '0x32df7', '0xf0907', '0x84cb2', '0xd6dd3', '0x85234', '0x880a2', '0x9f779', '0xa5298', '0xfd7ab', '0xd7bc9', '0x8faa4', '0x1c078']\n",
      "['0x29e6f', '0x76ebc', '0x1a902', '0x4e5b2', '0x70ef4', '0x18a26', '0x660ca', '0x54c17', '0x577db', '0x66b9a', '0x149f', '0x2aa2e', '0x1d1dd', '0x347c4', '0xfe25d', '0x79891']\n",
      "['0xcda44', '0xf94', '0xd8923', '0xf1e61', '0xb4f80', '0x9ffc9', '0x790dc', '0x68286', '0x545cc', '0xb2830', '0xa53c5', '0xc6c9a', '0xddf52', '0xb2c4d', '0x8f852', '0xaa9bc']\n"
     ]
    }
   ],
   "source": [
    "show(c0_expected)\n",
    "show(c1_expected)\n",
    "show(c2_expected)"
   ]
  },
  {
   "cell_type": "code",
   "execution_count": 62,
   "id": "277b4914",
   "metadata": {},
   "outputs": [
    {
     "name": "stdout",
     "output_type": "stream",
     "text": [
      "['0x44', '0x94', '0x23', '0x61', '0x80', '0xc9', '0xdc', '0x86', '0xcc', '0x30', '0xc5', '0x9a', '0x52', '0x4d', '0x52', '0xbc']\n",
      "['0xda', '0xf', '0x89', '0x1e', '0x4f', '0xff', '0x90', '0x82', '0x45', '0x28', '0x53', '0x6c', '0xdf', '0x2c', '0xf8', '0xa9']\n",
      "['0xc', '0x0', '0xd', '0xf', '0xb', '0x9', '0x7', '0x6', '0x5', '0xb', '0xa', '0xc', '0xd', '0xb', '0x8', '0xa']\n",
      "['0x0', '0x0', '0x0', '0x0', '0x0', '0x0', '0x0', '0x0', '0x0', '0x0', '0x0', '0x0', '0x0', '0x0', '0x0', '0x0']\n",
      "['0x0', '0x0', '0x0', '0x0', '0x0', '0x0', '0x0', '0x0', '0x0', '0x0', '0x0', '0x0', '0x0', '0x0', '0x0', '0x0']\n",
      "['0x0', '0x0', '0x0', '0x0', '0x0', '0x0', '0x0', '0x0', '0x0', '0x0', '0x0', '0x0', '0x0', '0x0', '0x0', '0x0']\n",
      "['0x0', '0x0', '0x0', '0x0', '0x0', '0x0', '0x0', '0x0', '0x0', '0x0', '0x0', '0x0', '0x0', '0x0', '0x0', '0x0']\n",
      "['0x0', '0x0', '0x0', '0x0', '0x0', '0x0', '0x0', '0x0', '0x0', '0x0', '0x0', '0x0', '0x0', '0x0', '0x0', '0x0']\n"
     ]
    }
   ],
   "source": [
    "c2_base_t = base_t(c2_expected)\n",
    "for i in range(L+1):\n",
    "    show(c2_base_t[i])"
   ]
  },
  {
   "cell_type": "code",
   "execution_count": 63,
   "id": "4051d314",
   "metadata": {},
   "outputs": [],
   "source": [
    "def relin():\n",
    "    C = [0]*(L+1)\n",
    "    D = [0]*(L+1)\n",
    "    for i in range(L+1):\n",
    "        C[i] = poly_mul(c2_base_t[i], rlks[i][0])\n",
    "        D[i] = poly_mul(c2_base_t[i], rlks[i][1])\n",
    "        \n",
    "    C = [poly_mod(c) for c in C]\n",
    "    D = [poly_mod(d) for d in D]\n",
    "    \n",
    "    \n",
    "    c0_out = [0 for c in c0_expected]\n",
    "    c1_out = [0 for c in c1_expected]\n",
    "    for i in range(L+1):\n",
    "        for j in range(DEGREE_N):\n",
    "            c0_out[j] += C[i][j]\n",
    "            c1_out[j] += D[i][j]\n",
    "    \n",
    "    \n",
    "    \n",
    "    c0_out = [(c + r) % Q for c, r in zip(c0_expected, c0_out)]\n",
    "    c1_out = [(c + r) % Q for c, r in zip(c1_expected, c1_out)]\n",
    "\n",
    "    \n",
    "    return c0_out, c1_out"
   ]
  },
  {
   "cell_type": "code",
   "execution_count": 64,
   "id": "505b4db9",
   "metadata": {},
   "outputs": [
    {
     "name": "stdout",
     "output_type": "stream",
     "text": [
      "['0xd383c', '0xdff2', '0x4b83c', '0xd7ff', '0xe1d27', '0xc91ce', '0xa6b75', '0x75192', '0xaabec', '0x9743e', '0xca940', '0xe5c8a', '0xba0bc', '0xf9809', '0xfd36e', '0x94dbe']\n",
      "['0x7fee', '0x89982', '0xb76c1', '0x5cf86', '0x8da8b', '0x7907e', '0xbefb8', '0xd7dcd', '0x35d30', '0x9ed37', '0xdfc14', '0x65ad9', '0xc167f', '0xb22da', '0x5761d', '0x18ab8']\n"
     ]
    }
   ],
   "source": [
    "c0_out, c1_out = relin()\n",
    "show(c0_out)\n",
    "show(c1_out)"
   ]
  },
  {
   "cell_type": "code",
   "execution_count": 65,
   "id": "136d10a7",
   "metadata": {},
   "outputs": [
    {
     "name": "stdout",
     "output_type": "stream",
     "text": [
      "['0x3a92a', '0x3587c', '0xbb675', '0x6d97e', '0xa16f3', '0x487d3', '0x1e7d7', '0x8e6fe', '0x5e647', '0x8bad7', '0x9c3c8', '0xb19a8', '0xf17e4', '0xcb512', '0x6ea37', '0xf9aa9']\n",
      "['0xb8ac1', '0xb7a59', '0x97b86', '0xcf36', '0x4b476', '0x4d1d', '0x7ca85', '0xf46ae', '0x394f5', '0xb9d2b', '0xe7fd0', '0x174c9', '0xc19ab', '0xa741a', '0x62185', '0x3445a']\n"
     ]
    }
   ],
   "source": [
    "c0_final = load_inputs(\"HE_Verilog/tests/bins_20_16/ct_afterRelin_0.bin\")\n",
    "ctR0 = load_inputs(\"HE_Verilog/tests/ctR0.bin\")\n",
    "ctR1 = load_inputs(\"HE_Verilog/tests/ctR1.bin\")\n",
    "c1_final = load_inputs(\"HE_Verilog/tests/bins_20_16/ct_afterRelin_1.bin\")\n",
    "\n",
    "show(ctR0)\n",
    "show(ctR1)"
   ]
  },
  {
   "cell_type": "code",
   "execution_count": 66,
   "id": "8e3ff17a",
   "metadata": {},
   "outputs": [
    {
     "name": "stdout",
     "output_type": "stream",
     "text": [
      "['0x3a92a', '0x3587c', '0xbb675', '0x6d97e', '0xa16f3', '0x487d3', '0x1e7d7', '0x8e6fe', '0x5e647', '0x8bad7', '0x9c3c8', '0xb19a8', '0xf17e4', '0xcb512', '0x6ea37', '0xf9aa9']\n"
     ]
    }
   ],
   "source": [
    "ctR0 = load_inputs(\"HE_Verilog/tests/ctR0.bin\")\n",
    "show(ctR0)"
   ]
  },
  {
   "cell_type": "code",
   "execution_count": null,
   "id": "0f3d3d80",
   "metadata": {},
   "outputs": [],
   "source": []
  }
 ],
 "metadata": {
  "kernelspec": {
   "display_name": "Python 3 (ipykernel)",
   "language": "python",
   "name": "python3"
  },
  "language_info": {
   "codemirror_mode": {
    "name": "ipython",
    "version": 3
   },
   "file_extension": ".py",
   "mimetype": "text/x-python",
   "name": "python",
   "nbconvert_exporter": "python",
   "pygments_lexer": "ipython3",
   "version": "3.11.3"
  }
 },
 "nbformat": 4,
 "nbformat_minor": 5
}
